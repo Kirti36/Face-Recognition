{
 "cells": [
  {
   "cell_type": "code",
   "execution_count": 1,
   "id": "719cb8cc",
   "metadata": {},
   "outputs": [],
   "source": [
    "#1. Generate dataset\n",
    "#2. Train the classifier and save it\n",
    "#3. Detect the face and named it if it is already started in our dataset"
   ]
  },
  {
   "cell_type": "markdown",
   "id": "c2cc871e",
   "metadata": {},
   "source": [
    "# Generate dataset"
   ]
  },
  {
   "cell_type": "code",
   "execution_count": 1,
   "id": "cea369cc",
   "metadata": {},
   "outputs": [],
   "source": [
    "import cv2 "
   ]
  },
  {
   "cell_type": "code",
   "execution_count": 2,
   "id": "c200ebcd",
   "metadata": {},
   "outputs": [
    {
     "name": "stderr",
     "output_type": "stream",
     "text": [
      "<>:9: SyntaxWarning: \"is\" with a literal. Did you mean \"==\"?\n",
      "<>:9: SyntaxWarning: \"is\" with a literal. Did you mean \"==\"?\n",
      "C:\\Users\\Lenovo\\AppData\\Local\\Temp\\ipykernel_11548\\1786992563.py:9: SyntaxWarning: \"is\" with a literal. Did you mean \"==\"?\n",
      "  if faces is ():\n"
     ]
    }
   ],
   "source": [
    "def generate_dataset():\n",
    "    face_classifier = cv2.CascadeClassifier(\"haarcascade_frontalface_default.xml\")\n",
    "    def face_cropped(img):\n",
    "        gray = cv2.cvtColor(img, cv2.COLOR_BGR2GRAY)\n",
    "        faces = face_classifier.detectMultiScale(gray,1.3,5)\n",
    "        #scaling factor = 1.3\n",
    "        #Minimum Neighbor = 5\n",
    "        \n",
    "        if faces is ():\n",
    "            return None\n",
    "        for(x,y,w,h) in faces:\n",
    "            cropped_face = img[y:y+h,x:x+w]\n",
    "        return cropped_face\n",
    "    \n",
    "    cap = cv2.VideoCapture(0)\n",
    "    id = 2\n",
    "    img_id = 0\n",
    "    \n",
    "    while True:\n",
    "        ret,frame = cap.read()\n",
    "        if face_cropped(frame) is not None:\n",
    "            img_id+=1\n",
    "            face = cv2.resize(face_cropped(frame),(200,200))\n",
    "            face = cv2.cvtColor(face, cv2.COLOR_BGR2GRAY)\n",
    "            file_path = \"data/user.\"+str(id)+\".\"+str(img_id)+\".jpg\"\n",
    "            cv2.imwrite(file_path,face)\n",
    "            cv2.putText(face, str(img_id),(50,50),cv2.FONT_HERSHEY_COMPLEX,1 ,(0,255,0),2)\n",
    "            #(50,50) IS THE ORIGIN POINT FROM WHERE TEXT IS TO BE WRITTEN\n",
    "            #FONT SCALE =1\n",
    "            #THICKNESS=2\n",
    "            cv2.imshow(\"Cropped Face\", face)\n",
    "            if cv2.waitKey(1)==13 or int(img_id)==200:\n",
    "                break\n",
    "    cap.release()\n",
    "    cv2.desstroyAllWindows()\n",
    "    print(\"Collecting Samples is completed...\")\n",
    "#generate_dataset()\n",
    "        \n",
    "        "
   ]
  },
  {
   "cell_type": "markdown",
   "id": "78a4ab87",
   "metadata": {},
   "source": [
    "# Train the classifier"
   ]
  },
  {
   "cell_type": "code",
   "execution_count": 3,
   "id": "dad3473f",
   "metadata": {},
   "outputs": [],
   "source": [
    "import numpy as np\n",
    "from PIL import Image\n",
    "import os\n",
    "import cv2"
   ]
  },
  {
   "cell_type": "code",
   "execution_count": 4,
   "id": "0c115fe9",
   "metadata": {},
   "outputs": [],
   "source": [
    "def train_classifier(data_dir):\n",
    "    path = [os.path.join(data_dir,f) for f in os.listdir(data_dir)]\n",
    "    faces = []\n",
    "    ids = []\n",
    "    \n",
    "    for image in path:\n",
    "        img = Image.open(image).convert('L')\n",
    "        imageNp = np.array(img, 'uint8')\n",
    "        id = int(os.path.split(image)[1].split(\".\")[1])\n",
    "        \n",
    "        faces.append(imageNp)\n",
    "        ids.append(id)\n",
    "        \n",
    "    ids = np.array(ids)\n",
    "    \n",
    "    #train the classifier \n",
    "    clf = cv2.face.LBPHFaceRecognizer_create()\n",
    "    clf.train(faces,ids)\n",
    "    clf.write(\"classifier.xml\")  \n",
    "train_classifier(\"data\")"
   ]
  },
  {
   "cell_type": "markdown",
   "id": "bcb5d2a5",
   "metadata": {},
   "source": [
    "# Detection of face"
   ]
  },
  {
   "cell_type": "code",
   "execution_count": 5,
   "id": "c45b975b",
   "metadata": {},
   "outputs": [],
   "source": [
    "import cv2\n",
    "import numpy as np\n",
    "from PIL import Image\n",
    "import os"
   ]
  },
  {
   "cell_type": "code",
   "execution_count": null,
   "id": "26cbc189",
   "metadata": {},
   "outputs": [],
   "source": [
    "def draw_boundary(img,classifier,scaleFactor,minNeighbors,color,text,clf):\n",
    "    gray_image = cv2.cvtColor(img,cv2.COLOR_BGR2GRAY)\n",
    "    features = classifier.detectMultiScale(gray_image,scaleFactor,minNeighbors)\n",
    "    \n",
    "    coords = []\n",
    "    \n",
    "    for(x,y,w,h) in features:\n",
    "        cv2.rectangle(img,(x,y),(x+w,y+h),color,2)\n",
    "        id,pred = clf.predict(gray_image[y:y+h,x:x+w])\n",
    "        confidence = int(100*(1-pred/300))\n",
    "        \n",
    "        if confidence>88:\n",
    "            if id==1:\n",
    "                cv2.putText(img,\"Kirti\",(x,y-5),cv2.FONT_HERSHEY_SIMPLEX,0.8,color,1,cv2.LINE_AA)\n",
    "            if id==2:\n",
    "                cv2.putText(img,\"Yuvraj\",(x,y-5),cv2.FONT_HERSHEY_SIMPLEX,0.8,color,1,cv2.LINE_AA)\n",
    "        else:\n",
    "            cv2.putText(img,\"UNKNOWN\",(x,y-5),cv2.FONT_HERSHEY_SIMPLEX,0.8,(0,0,255),1,cv2.LINE_AA)\n",
    "         \n",
    "        coords=[x,y,w,h]\n",
    "    return coords\n",
    " \n",
    "def recognize(img,clf,faceCascade):\n",
    "    coords = draw_boundary(img,faceCascade,1.1,10,(255,255,255),\"Face\",clf)\n",
    "    return img\n",
    "faceCascade =  cv2.CascadeClassifier(\"haarcascade_frontalface_default.xml\")\n",
    "clf= cv2.face.LBPHFaceRecognizer_create()\n",
    "clf.read(\"classifier.xml\")\n",
    "\n",
    "video_capture = cv2.VideoCapture(0)\n",
    "\n",
    "while True:\n",
    "    ret,img = video_capture.read()\n",
    "    img = recognize(img,clf,faceCascade)\n",
    "    cv2.imshow(\"face detection\",img)\n",
    "    \n",
    "    if cv2.waitKey(1)==13:\n",
    "        break\n",
    "        \n",
    "video_capture.release()\n",
    "cv2.destroyAllWindows()"
   ]
  },
  {
   "cell_type": "code",
   "execution_count": null,
   "id": "a8419b11",
   "metadata": {},
   "outputs": [],
   "source": []
  }
 ],
 "metadata": {
  "kernelspec": {
   "display_name": "Python 3 (ipykernel)",
   "language": "python",
   "name": "python3"
  },
  "language_info": {
   "codemirror_mode": {
    "name": "ipython",
    "version": 3
   },
   "file_extension": ".py",
   "mimetype": "text/x-python",
   "name": "python",
   "nbconvert_exporter": "python",
   "pygments_lexer": "ipython3",
   "version": "3.9.12"
  }
 },
 "nbformat": 4,
 "nbformat_minor": 5
}
